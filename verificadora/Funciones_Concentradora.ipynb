{
 "cells": [
  {
   "cell_type": "code",
   "execution_count": 313,
   "metadata": {
    "collapsed": false
   },
   "outputs": [],
   "source": [
    "import os.path\n",
    "from os import getcwd\n",
    "import json\n",
    "import subprocess\n",
    "import random\n",
    "import string\n",
    "import sys"
   ]
  },
  {
   "cell_type": "code",
   "execution_count": null,
   "metadata": {
    "collapsed": false
   },
   "outputs": [],
   "source": []
  },
  {
   "cell_type": "code",
   "execution_count": 349,
   "metadata": {
    "collapsed": false
   },
   "outputs": [],
   "source": [
    "def verify_morethan11ine(filename):\n",
    "    count = 0\n",
    "    valor = 0\n",
    "    with open(filename) as fp:\n",
    "        for line in fp:\n",
    "            count = count + 1\n",
    "            if count > 1: valor = 1\n",
    "    return valor"
   ]
  },
  {
   "cell_type": "code",
   "execution_count": 194,
   "metadata": {
    "collapsed": false
   },
   "outputs": [],
   "source": [
    "def load_resources(resources_filename):\n",
    "    data = load_json(resources_filename)\n",
    "    return data['resources']\n"
   ]
  },
  {
   "cell_type": "code",
   "execution_count": 277,
   "metadata": {
    "collapsed": false
   },
   "outputs": [],
   "source": [
    "def call_resource(resource,filename):\n",
    "    id_api = detect_api(resource)\n",
    "    resource_requirements = get_requirements(resource,id_api)\n",
    "    filtered_csv = prepare_csv(resource_requirements,filename,resource)\n",
    "    resource_return = get_resource_results(resource,filtered_csv,id_api)\n",
    "    return resource_return"
   ]
  },
  {
   "cell_type": "code",
   "execution_count": 196,
   "metadata": {
    "collapsed": true
   },
   "outputs": [],
   "source": [
    "def detect_api(resource):\n",
    "    if resource[0:3] == \"http\": return \"1\"\n",
    "    return \"0\""
   ]
  },
  {
   "cell_type": "code",
   "execution_count": 197,
   "metadata": {
    "collapsed": false
   },
   "outputs": [],
   "source": [
    "def extract_extension(filename):\n",
    "    extension = os.path.splitext(filename)[1][1:]\n",
    "    return extension"
   ]
  },
  {
   "cell_type": "code",
   "execution_count": 216,
   "metadata": {
    "collapsed": false
   },
   "outputs": [],
   "source": [
    "def get_requirements(resource,id_api):\n",
    "    if id_api == 1: return None\n",
    "    requirements = call_local_resource(resource)\n",
    "    return requirements"
   ]
  },
  {
   "cell_type": "code",
   "execution_count": null,
   "metadata": {
    "collapsed": true
   },
   "outputs": [],
   "source": []
  },
  {
   "cell_type": "code",
   "execution_count": 200,
   "metadata": {
    "collapsed": false
   },
   "outputs": [],
   "source": [
    "def detect_compiler(resource):\n",
    "    resource_extension = extract_extension(resource)\n",
    "    compiler = compiler_dictionary[resource_extension]\n",
    "    return compiler"
   ]
  },
  {
   "cell_type": "code",
   "execution_count": 201,
   "metadata": {
    "collapsed": true
   },
   "outputs": [],
   "source": [
    "def load_json(filename):\n",
    "    with open(filename) as data_file:    \n",
    "        data = json.load(data_file)\n",
    "    return data"
   ]
  },
  {
   "cell_type": "code",
   "execution_count": 202,
   "metadata": {
    "collapsed": true
   },
   "outputs": [],
   "source": [
    "def call_resources(resource_list):\n",
    "    responses = {}\n",
    "    for resource in resource_list:\n",
    "        responses[resource] = call_resource(resource, FILE)"
   ]
  },
  {
   "cell_type": "code",
   "execution_count": 223,
   "metadata": {
    "collapsed": false
   },
   "outputs": [],
   "source": [
    "def call_local_resource(resource,filename = None):\n",
    "    resource_path = RESOURCES_DIR + \"/\" + resource\n",
    "    compiler = detect_compiler(resource)\n",
    "    if filename is None: \n",
    "        output = subprocess.check_output([compiler,resource_path])\n",
    "    else:\n",
    "        output = subprocess.check_output([compiler,resource_path,filename])\n",
    "    output_dict = json.loads(output.decode(\"utf-8\"))\n",
    "    return output_dict"
   ]
  },
  {
   "cell_type": "code",
   "execution_count": 325,
   "metadata": {
    "collapsed": true
   },
   "outputs": [],
   "source": [
    "def prepare_csv(csv_requirements,filename,resource):\n",
    "    requirements = csv_requirements[\"response\"]\n",
    "    number_units = int(requirements[\"number\"]) #Un número de 1 al numero de filas o columnas \n",
    "    sampling = requirements[\"sampling\"] #random, first, last\n",
    "    unit = requirements[\"unit\"] # rows, title, file, columns\n",
    "    data = b''\n",
    "    if unit == \"file\":\n",
    "        data = read_file(filename)\n",
    "    elif unit == \"title\":\n",
    "        data = read_top_lines(filename,1)\n",
    "    elif unit == \"row\":\n",
    "        n_lines = detect_lines(filename)\n",
    "        if n_lines < number_units:\n",
    "            number_units = n_lines\n",
    "            print('Warning: Less lines than required by resource '+ resource)\n",
    "        if sampling == \"top\":\n",
    "            data = read_top_lines(filename,number_units)\n",
    "        elif sampling == \"random\":\n",
    "            data = read_random_lines(filename,number_units,n_lines)\n",
    "    temp_data_path = write_data(data)\n",
    "    return temp_data_path"
   ]
  },
  {
   "cell_type": "code",
   "execution_count": 205,
   "metadata": {
    "collapsed": true
   },
   "outputs": [],
   "source": [
    "def read_file(filepath):\n",
    "    with open (filepath, \"rb\") as myfile:\n",
    "        data=myfile.read()\n",
    "    return data"
   ]
  },
  {
   "cell_type": "code",
   "execution_count": 252,
   "metadata": {
    "collapsed": true
   },
   "outputs": [],
   "source": [
    "def detect_lines(filename):\n",
    "    count = 0\n",
    "    with open(filename) as fp:\n",
    "        for line in fp:\n",
    "            count = count + 1\n",
    "    return int(count)"
   ]
  },
  {
   "cell_type": "code",
   "execution_count": null,
   "metadata": {
    "collapsed": true
   },
   "outputs": [],
   "source": []
  },
  {
   "cell_type": "code",
   "execution_count": 289,
   "metadata": {
    "collapsed": true
   },
   "outputs": [],
   "source": [
    "def read_top_lines(filename, N):\n",
    "    with open(filename,'rb') as fp:\n",
    "        head = fp.readlines(N)\n",
    "    return head"
   ]
  },
  {
   "cell_type": "code",
   "execution_count": 288,
   "metadata": {
    "collapsed": true
   },
   "outputs": [],
   "source": [
    "def read_random_lines(filename, N,n_lines):\n",
    "    random_list = generate_random_list(N,n_lines)\n",
    "    count = 0\n",
    "    with open(filename,'rb') as fp:\n",
    "        for line in fp:\n",
    "            count = count + 1\n",
    "            if count == random_list[0]:\n",
    "                data=fp.read()\n",
    "                random_list.pop(0)\n",
    "    return data"
   ]
  },
  {
   "cell_type": "code",
   "execution_count": 257,
   "metadata": {
    "collapsed": true
   },
   "outputs": [],
   "source": [
    "def generate_random_list(N,n_lines):\n",
    "    r_list=[]\n",
    "    for _ in range(N):\n",
    "        r_int =random.randint(1,n_lines)\n",
    "        r_list.append(r_int)\n",
    "    r_list = sorted(r_list)\n",
    "    return r_list\n",
    "        "
   ]
  },
  {
   "cell_type": "code",
   "execution_count": 448,
   "metadata": {
    "collapsed": false
   },
   "outputs": [
    {
     "name": "stdout",
     "output_type": "stream",
     "text": [
      "{'detail': {'general-file-check.py': {'status': 'Pass', 'validators': {'utf-8': {'reason': 'Se detectó la codificación UTF-8', 'status': 'Pass'}, 'separator': {'reason': 'Coma', 'status': 'Pass'}}}}, 'status': 'Pass'}\n"
     ]
    }
   ],
   "source": [
    "FILE = 'tramites_lerma.csv'\n",
    "RESOURCES=\"resources.json\"\n",
    "RESOURCES_DIR=\"resources\"\n",
    "COMPILER_FILE = \"compilers.json\"\n",
    "TMP_DIR=\"tmp\"\n",
    "\n",
    "CURRENT_DIRECTORY = os.getcwd()\n",
    "RESOURCES_FULLPATH = CURRENT_DIRECTORY + \"/\" + RESOURCES_DIR\n",
    "TEMP_FULLPATH = CURRENT_DIRECTORY + \"/\" + TEMP_DIR\n",
    "\n",
    "compiler_dictionary = load_json(COMPILER_FILE)\n",
    "\n",
    "base_response_dict = base_validation(FILE)\n",
    "base_status = base_response_dict['status']\n",
    "if base_status == \"Fail\": \n",
    "    print(base_response_dict)\n",
    "    sys.exit() \n",
    "resource_list = load_resources(resources_filename)\n",
    "response_dict = {}\n",
    "status = \"Pass\"\n",
    "for resource in resource_list:\n",
    "    response_dict[resource]= call_resource(resource,FILE)\n",
    "    if response_dict[resource]['status'] != \"Pass\": status = \"Fail\"\n",
    "return_dict = {\"status\":status,\"detail\":response_dict}\n",
    "print(return_dict)"
   ]
  },
  {
   "cell_type": "code",
   "execution_count": 312,
   "metadata": {
    "collapsed": false
   },
   "outputs": [],
   "source": [
    "def generate_random_filename():\n",
    "    stringname = name_id_generator()\n",
    "    ext = \".csv\"\n",
    "    filename = stringname+ext\n",
    "    return filename"
   ]
  },
  {
   "cell_type": "code",
   "execution_count": 95,
   "metadata": {
    "collapsed": true
   },
   "outputs": [],
   "source": [
    "def name_id_generator(size=24, chars=string.ascii_uppercase + string.digits):\n",
    "    return ''.join(random.choice(chars) for _ in range(size))"
   ]
  },
  {
   "cell_type": "code",
   "execution_count": 97,
   "metadata": {
    "collapsed": false
   },
   "outputs": [
    {
     "data": {
      "text/plain": [
       "'22LTG7KTCY416Z2NCS48WA22.csv'"
      ]
     },
     "execution_count": 97,
     "metadata": {},
     "output_type": "execute_result"
    }
   ],
   "source": [
    "generate_random_filename()"
   ]
  },
  {
   "cell_type": "code",
   "execution_count": 291,
   "metadata": {
    "collapsed": true
   },
   "outputs": [],
   "source": [
    "def write_data(data):\n",
    "    sample_filename = generate_random_filename()\n",
    "    file_path= TMP_DIR + \"/\" + sample_filename\n",
    "    f = open(file_path, 'wb')\n",
    "    f.write(data)\n",
    "    f.close()\n",
    "    return file_path"
   ]
  },
  {
   "cell_type": "code",
   "execution_count": null,
   "metadata": {
    "collapsed": false
   },
   "outputs": [],
   "source": []
  },
  {
   "cell_type": "code",
   "execution_count": 241,
   "metadata": {
    "collapsed": false
   },
   "outputs": [],
   "source": [
    "def get_resource_results(resource,filename, id_api):\n",
    "    if id_api == 1: return None\n",
    "    response = call_local_resource(resource,filename)\n",
    "    return response"
   ]
  },
  {
   "cell_type": "code",
   "execution_count": 131,
   "metadata": {
    "collapsed": false
   },
   "outputs": [
    {
     "name": "stdout",
     "output_type": "stream",
     "text": [
      "compilers.json\n"
     ]
    }
   ],
   "source": []
  },
  {
   "cell_type": "code",
   "execution_count": 415,
   "metadata": {
    "collapsed": true
   },
   "outputs": [],
   "source": [
    "def base_validation(filename):\n",
    "    csv_response = csv_validation(filename)\n",
    "    morethan1line_response = morethan1line_validation(filename)\n",
    "    response_dict = {\"csv\": csv_response, \"morethan1line\":morethan1line_response}\n",
    "    status = response_status(response_dict)\n",
    "    output_dict = {\"status\":status,\"validators\":response_dict}\n",
    "    return output_dict"
   ]
  },
  {
   "cell_type": "code",
   "execution_count": 444,
   "metadata": {
    "collapsed": false
   },
   "outputs": [],
   "source": [
    "def csv_validation(filename):\n",
    "    extension = extract_extension(filename)\n",
    "    if extension == \"csv\": \n",
    "        status = \"Pass\"\n",
    "        reason = \"Se detectó la codificación csv\"\n",
    "    else:\n",
    "        status = \"Fail\"\n",
    "        reason = extension   \n",
    "    response = {\"status\":status,\"reason\":reason}\n",
    "    return response"
   ]
  },
  {
   "cell_type": "code",
   "execution_count": 447,
   "metadata": {
    "collapsed": false
   },
   "outputs": [],
   "source": [
    "def morethan1line_validation(filename):\n",
    "    test_result = verify_morethan11ine(filename)\n",
    "    if test_result == 1 : \n",
    "        status = \"Pass\"\n",
    "        reason = \"El archivo cuenta con más de una fila\"\n",
    "    else:\n",
    "        status = \"Fail\"\n",
    "        reason = \"El archivo no cuenta con contenido suficiente, verificar que al menos tenga una fila de valores\"\n",
    "    response = {\"status\":status,\"reason\":reason}\n",
    "    return response"
   ]
  },
  {
   "cell_type": "code",
   "execution_count": 445,
   "metadata": {
    "collapsed": false
   },
   "outputs": [],
   "source": [
    "def response_status(response_dict):\n",
    "    status = \"Pass\"\n",
    "    for response in response_dict.keys():\n",
    "        if response_dict[response]['status'] == \"Fail\": status = \"Fail\"\n",
    "    return status"
   ]
  },
  {
   "cell_type": "code",
   "execution_count": null,
   "metadata": {
    "collapsed": true
   },
   "outputs": [],
   "source": []
  }
 ],
 "metadata": {
  "kernelspec": {
   "display_name": "Python 3",
   "language": "python",
   "name": "python3"
  },
  "language_info": {
   "codemirror_mode": {
    "name": "ipython",
    "version": 3
   },
   "file_extension": ".py",
   "mimetype": "text/x-python",
   "name": "python",
   "nbconvert_exporter": "python",
   "pygments_lexer": "ipython3",
   "version": "3.4.1"
  }
 },
 "nbformat": 4,
 "nbformat_minor": 0
}
