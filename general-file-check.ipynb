{
 "cells": [
  {
   "cell_type": "code",
   "execution_count": 73,
   "metadata": {
    "collapsed": true
   },
   "outputs": [],
   "source": [
    "#####!/usr/bin/python\n",
    "import sys\n",
    "import json\n",
    "import csv\n",
    "import cchardet"
   ]
  },
  {
   "cell_type": "code",
   "execution_count": 56,
   "metadata": {
    "collapsed": false
   },
   "outputs": [
    {
     "data": {
      "text/plain": [
       "'null'"
      ]
     },
     "execution_count": 56,
     "metadata": {},
     "output_type": "execute_result"
    }
   ],
   "source": [
    "if len(sys.argv) == 0:\n",
    "    output_dict = return_reqs()\n",
    "else:\n",
    "    output_dict = return_validation(sys.argv[0])\n",
    "json.dumps(output)"
   ]
  },
  {
   "cell_type": "code",
   "execution_count": 111,
   "metadata": {
    "collapsed": true
   },
   "outputs": [],
   "source": [
    "def return_reqs():\n",
    "    status = \"Req\"\n",
    "    response = {unit\":\"rows\",\"number\":\"5\",\"sampling\":\"random\"}\n",
    "    output_dict = {\"status\":status, \"response\":response}\n",
    "    return output_dict"
   ]
  },
  {
   "cell_type": "code",
   "execution_count": 65,
   "metadata": {
    "collapsed": false
   },
   "outputs": [],
   "source": [
    "def return_validation(filepath):\n",
    "    sample = read_sample(filepath)\n",
    "    utf8_response = utf8_validation(sample)\n",
    "    separator_response = separator_validation(sample)\n",
    "    output_dict = {\"utf-8\": utf8_response, \"separator\":separator_response}\n",
    "    status = response_status(response_dict)\n",
    "    return output_dict"
   ]
  },
  {
   "cell_type": "code",
   "execution_count": 59,
   "metadata": {
    "collapsed": false
   },
   "outputs": [
    {
     "data": {
      "text/plain": [
       "'{\"status\": \"req\", \"response\": {\"char-filter\": \"only-special\", \"sampling\": \"random\", \"unit\": \"rows\", \"number\": \"5\"}}'"
      ]
     },
     "execution_count": 59,
     "metadata": {},
     "output_type": "execute_result"
    }
   ],
   "source": [
    "json.dumps(return_reqs())"
   ]
  },
  {
   "cell_type": "code",
   "execution_count": 67,
   "metadata": {
    "collapsed": false,
    "scrolled": true
   },
   "outputs": [],
   "source": []
  },
  {
   "cell_type": "code",
   "execution_count": 92,
   "metadata": {
    "collapsed": false
   },
   "outputs": [],
   "source": [
    "def read_sample(filepath):\n",
    "    with open (filepath, \"rb\") as myfile:\n",
    "        data=myfile.read()\n",
    "    return data"
   ]
  },
  {
   "cell_type": "code",
   "execution_count": 104,
   "metadata": {
    "collapsed": false
   },
   "outputs": [],
   "source": [
    "def separator_validation(data):\n",
    "    separator = detect_separator(data)\n",
    "    if separator == \",\":\n",
    "        code = \"Pass\"\n",
    "        reason = \"Coma\"\n",
    "    elif separator ==\";\":\n",
    "        code = \"Pass\"\n",
    "        reason=\"Separador Válido, se prefiere el uso de coma\"\n",
    "    else:\n",
    "        code= \"Fail\"\n",
    "        reason = \"Separador Inválido detectado\"\n",
    "    response = {\"code\":code,\"reason\":reason}\n",
    "    return response"
   ]
  },
  {
   "cell_type": "code",
   "execution_count": 94,
   "metadata": {
    "collapsed": false
   },
   "outputs": [],
   "source": [
    "encoding = cchardet.detect(data)"
   ]
  },
  {
   "cell_type": "code",
   "execution_count": 97,
   "metadata": {
    "collapsed": false
   },
   "outputs": [
    {
     "name": "stdout",
     "output_type": "stream",
     "text": [
      "{'confidence': 0.9900000095367432, 'encoding': 'UTF-8'}\n"
     ]
    }
   ],
   "source": [
    "print(encoding)"
   ]
  },
  {
   "cell_type": "code",
   "execution_count": 98,
   "metadata": {
    "collapsed": true
   },
   "outputs": [],
   "source": [
    "def utf8_validation(sample):\n",
    "    encoding = cchardet.detect(data)\n",
    "    if encoding != \"UTF-8\": \n",
    "        code = \"Fail\"\n",
    "        reason = \"No se detectó la codificación del Archivo, Verifica que esté guardado como UTF-8\"\n",
    "    else:\n",
    "        code = \"Pass\"\n",
    "        reason = \"Se detectó la codificación UTF-8\"\n",
    "    response = {\"code\":code,\"reason\":reason}\n",
    "    return response"
   ]
  },
  {
   "cell_type": "code",
   "execution_count": 101,
   "metadata": {
    "collapsed": false
   },
   "outputs": [],
   "source": [
    "def detect_separator(data):\n",
    "    sniffer = csv.Sniffer()\n",
    "    dialect = sniffer.sniff(data.decode(\"UTF-8\"))\n",
    "    return dialect.delimiter"
   ]
  },
  {
   "cell_type": "code",
   "execution_count": 110,
   "metadata": {
    "collapsed": false
   },
   "outputs": [],
   "source": [
    "def response_status(response_dict):\n",
    "    for response in response_dict:\n",
    "        if response[\"status\"]==\"Fail\":\n",
    "            status = \"Fail\"\n",
    "        else:\n",
    "            status = \"Pass\"\n",
    "    return status"
   ]
  },
  {
   "cell_type": "code",
   "execution_count": null,
   "metadata": {
    "collapsed": true
   },
   "outputs": [],
   "source": []
  }
 ],
 "metadata": {
  "kernelspec": {
   "display_name": "Python 3",
   "language": "python",
   "name": "python3"
  },
  "language_info": {
   "codemirror_mode": {
    "name": "ipython",
    "version": 3
   },
   "file_extension": ".py",
   "mimetype": "text/x-python",
   "name": "python",
   "nbconvert_exporter": "python",
   "pygments_lexer": "ipython3",
   "version": "3.4.1"
  }
 },
 "nbformat": 4,
 "nbformat_minor": 0
}
